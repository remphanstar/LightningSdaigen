{
  "nbformat": 4,
  "nbformat_minor": 0,
  "metadata": {
    "colab": {
      "provenance": [],
      "gpuType": "T4"
    },
    "kernelspec": {
      "name": "python3",
      "display_name": "Python 3"
    },
    "language_info": {
      "name": "python"
    },
    "accelerator": "GPU"
  },
  "cells": [
    {
      "cell_type": "code",
      "source": [
        "# @title Установка Среды.\n",
        "from pathlib import Path\n",
        "import os\n",
        "\n",
        "lang, branch = 'ru', 'main'\n",
        "scripts_dir = Path.home() / 'ANXETY' / 'scripts'\n",
        "out = scripts_dir / 'setup.py'\n",
        "\n",
        "os.makedirs(out.parent, exist_ok=True)\n",
        "!curl -sLo {out} https://raw.githubusercontent.com/anxety-solo/sdAIgen/{branch}/scripts/setup.py\n",
        "\n",
        "%run $out --lang=$lang --branch=$branch"
      ],
      "metadata": {
        "id": "8N4HG-KOCVxE",
        "cellView": "form"
      },
      "execution_count": null,
      "outputs": []
    },
    {
      "cell_type": "markdown",
      "source": [
        "---\n",
        "## 1. Виджеты 🔽"
      ],
      "metadata": {
        "id": "u3ItiVM_ti1w"
      }
    },
    {
      "cell_type": "code",
      "source": [
        "# Выбор моделей, vae, control-net и прочее.\n",
        "%run $scripts_dir/$lang/widgets-{lang}.py"
      ],
      "metadata": {
        "id": "wA4aTRootj2j"
      },
      "execution_count": null,
      "outputs": []
    },
    {
      "cell_type": "markdown",
      "source": [
        "## 2. Загрузка 🔽"
      ],
      "metadata": {
        "id": "7AHNls08xcdg"
      }
    },
    {
      "cell_type": "code",
      "source": [
        "# Загрузка библиотек, репо, моделей и прочего.\n",
        "%run $scripts_dir/$lang/downloading-{lang}.py"
      ],
      "metadata": {
        "id": "1Ev_2hDOxdUs"
      },
      "execution_count": null,
      "outputs": []
    },
    {
      "cell_type": "markdown",
      "source": [
        "## 3. Запуск 🔽"
      ],
      "metadata": {
        "id": "E7pT9VX93OzP"
      }
    },
    {
      "cell_type": "code",
      "source": [
        "# Запустить WebUI.\n",
        "%run $scripts_dir/launch.py"
      ],
      "metadata": {
        "id": "JKBfIlxi3Rzt"
      },
      "execution_count": null,
      "outputs": []
    },
    {
      "cell_type": "markdown",
      "source": [
        "---\n",
        "# Утилиты"
      ],
      "metadata": {
        "id": "eWU2gAB-3oyP"
      }
    },
    {
      "cell_type": "code",
      "source": [
        "# Запустить AutoCleaner.\n",
        "%run $scripts_dir/auto-cleaner.py"
      ],
      "metadata": {
        "id": "72s_GVIa3pyS"
      },
      "execution_count": null,
      "outputs": []
    }
  ]
}