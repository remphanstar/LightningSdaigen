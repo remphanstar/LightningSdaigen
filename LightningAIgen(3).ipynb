{
  "nbformat": 4,
  "nbformat_minor": 0,
  "metadata": {
    "colab": {
      "provenance": [],
      "gpuType": "T4"
    },
    "kernelspec": {
      "name": "python3",
      "display_name": "Python 3"
    },
    "language_info": {
      "name": "python"
    },
    "accelerator": "GPU"
  },
  "cells": [
    {
      "cell_type": "code",
      "source": [
        "# @title Setup Environment.\n",
        "from pathlib import Path\n",
        "import os\n",
        "\n",
        "lang, branch = 'en', 'main'\n",
        "scripts_dir = Path.home() / 'ANXETY' / 'scripts'\n",
        "out = scripts_dir / 'setup.py'\n",
        "\n",
        "os.makedirs(out.parent, exist_ok=True)\n",
        "!curl -sLo {out} https://raw.githubusercontent.com/remphanstar/LightningSdaigen/{branch}/scripts/setup.py\n",
        "\n",
        "%run $out --lang=$lang --branch=$branch\n",
        "\n",
        "# Update scripts_dir to use the path that setup.py determined\n",
        "scripts_dir = Path(os.environ['scr_path']) / 'scripts'"
      ],
      "metadata": {
        "id": "8N4HG-KOCVxE"
      },
      "execution_count": null,
      "outputs": []
    },
    {
      "cell_type": "markdown",
      "source": [
        "---\n",
        "## 1. Widgets 🔽"
      ],
      "metadata": {
        "id": "u3ItiVM_ti1w"
      }
    },
    {
      "cell_type": "markdown",
      "source": [],
      "metadata": {
        "id": "QvIHouSH8FYg"
      }
    },
    {
      "cell_type": "code",
      "source": [
        "# Model selection, vae, control-net and more.\n",
        "%run $scripts_dir/$lang/widgets-{lang}.py"
      ],
      "metadata": {
        "id": "wA4aTRootj2j"
      },
      "execution_count": null,
      "outputs": []
    },
    {
      "cell_type": "markdown",
      "source": [
        "## 2. Downloading 🔽"
      ],
      "metadata": {
        "id": "7AHNls08xcdg"
      }
    },
    {
      "cell_type": "code",
      "source": [
        "# Downloading libraries, repos, models and more.\n",
        "%run $scripts_dir/$lang/downloading-{lang}.py"
      ],
      "metadata": {
        "id": "1Ev_2hDOxdUs"
      },
      "execution_count": null,
      "outputs": []
    },
    {
      "cell_type": "markdown",
      "source": [
        "## 3. Start 🔽"
      ],
      "metadata": {
        "id": "E7pT9VX93OzP"
      }
    },
    {
      "cell_type": "code",
      "source": [
        "# Launch WebUI.\n",
        "%run $scripts_dir/launch.py"
      ],
      "metadata": {
        "id": "JKBfIlxi3Rzt"
      },
      "execution_count": null,
      "outputs": []
    },
    {
      "cell_type": "code",
      "source": [
        "#\n",
        "#\n",
        "# FINAL CORRECTED CELL: This cell handles all setup and launch steps.\n",
        "# It installs a clean environment, fixes all dependencies, and starts the WebUI.\n",
        "#\n",
        "#\n",
        "\n",
        "import os\n",
        "import sys\n",
        "import subprocess\n",
        "from pathlib import Path\n",
        "\n",
        "# --- 1. Ensure System Tools Are Installed ---\n",
        "print(\"💿 Installing system tools (aria2, lz4, pv)...\")\n",
        "!apt-get -y update > /dev/null 2>&1\n",
        "!apt-get -y install aria2 lz4 pv > /dev/null 2>&1\n",
        "print(\"✅ System tools are ready.\")\n",
        "\n",
        "# --- 2. Download and Extract the Correct Virtual Environment ---\n",
        "HOME = Path('/content')\n",
        "VENV = HOME / \"venv\"\n",
        "\n",
        "if VENV.exists():\n",
        "    print(\"Removing old virtual environment...\")\n",
        "    !rm -rf {VENV}\n",
        "\n",
        "print(\"Downloading the corrected virtual environment...\")\n",
        "# Using the original, reliable venv link\n",
        "venv_url = \"https://huggingface.co/NagisaNao/ANXETY/resolve/main/python31018-venv-torch260-cu124-C-fca.tar.lz4\"\n",
        "archive_path = HOME / \"venv.tar.lz4\"\n",
        "!aria2c -x 16 -s 16 -k 1M --console-log-level=error -c -d {HOME} -o {archive_path.name} \"{venv_url}\"\n",
        "\n",
        "print(\"Extracting virtual environment...\")\n",
        "!pv {archive_path} | lz4 -d | tar xf - -C {HOME}\n",
        "!rm {archive_path}\n",
        "print(\"✅ Virtual environment is ready.\")\n",
        "\n",
        "# --- 3. Download and Set Up the WebUI ---\n",
        "UI = \"A1111\" # You can change this to 'Forge' etc. if needed\n",
        "WEBUI_PATH = HOME / UI\n",
        "if not WEBUI_PATH.exists():\n",
        "    print(f\"Downloading {UI} WebUI...\")\n",
        "    webui_url = f\"https://huggingface.co/NagisaNao/ANXETY/resolve/main/{UI}.zip\"\n",
        "    webui_zip = HOME / f\"{UI}.zip\"\n",
        "    !aria2c -x 16 -s 16 -k 1M --console-log-level=error -c -d {HOME} -o {webui_zip.name} \"{webui_url}\"\n",
        "    !unzip -q -o {webui_zip} -d {WEBUI_PATH}\n",
        "    !rm {webui_zip}\n",
        "    print(f\"✅ {UI} WebUI is ready.\")\n",
        "\n",
        "# --- 4. Fix All Extension Dependencies ---\n",
        "python_executable = VENV / 'bin' / 'python'\n",
        "extensions_path = WEBUI_PATH / 'extensions'\n",
        "\n",
        "print(\"Fixing all extension dependencies...\")\n",
        "# Force install all the correct, compatible library versions\n",
        "!{python_executable} -m pip install --force-reinstall accelerate==0.21.0 onnx==1.14.0 onnxruntime==1.15.0 insightface==0.7.3 opencv-python==4.7.0.72 rembg supervision ifnude\n",
        "# Clone the missing dependency for the Replacer extension\n",
        "if not (extensions_path / 'sd-webui-segment-anything').exists():\n",
        "    !git clone https://github.com/continue-revolution/sd-webui-segment-anything.git {extensions_path}/sd-webui-segment-anything\n",
        "print(\"✅ All dependencies have been corrected.\")\n",
        "\n",
        "\n",
        "# --- 5. Launch the WebUI ---\n",
        "print(\"\\n🚀 Launching WebUI...\")\n",
        "%run {WEBUI_PATH}/launch.py --xformers --no-half-vae --enable-insecure-extension-access --disable-console-progressbars --theme dark"
      ],
      "metadata": {
        "id": "qH47JSb_g9S2"
      },
      "execution_count": null,
      "outputs": []
    },
    {
      "cell_type": "markdown",
      "source": [
        "---\n",
        "# Utilities"
      ],
      "metadata": {
        "id": "eWU2gAB-3oyP"
      }
    }
  ]
}